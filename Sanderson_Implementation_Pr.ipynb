{
 "cells": [
  {
   "cell_type": "code",
   "execution_count": 1,
   "metadata": {},
   "outputs": [],
   "source": [
    "# Import necessary libraries:\n",
    "from intake_esgf import ESGFCatalog\n",
    "import matplotlib.pyplot as plt\n",
    "import numpy as np\n",
    "import csv\n",
    "import pandas as pd"
   ]
  },
  {
   "cell_type": "code",
   "execution_count": 2,
   "metadata": {},
   "outputs": [],
   "source": [
    "# Defines neccessary fucntions:\n",
    "def Sanderson(skill_scores, d_q):\n",
    "\n",
    "    # Calculate model weights using the modified Sanderson Approach equation\n",
    "    weights_raw = [np.exp(skill_score / d_q) for skill_score in skill_scores]\n",
    "    # Use the built-in sum() function to sum the elements of the list\n",
    "    weights_sum = sum(weights_raw)\n",
    "     # Normalize the weights by dividing by the total sum of weights\n",
    "    weights = [weight / weights_sum for weight in weights_raw]\n",
    "\n",
    "    return weights\n"
   ]
  },
  {
   "cell_type": "code",
   "execution_count": 3,
   "metadata": {},
   "outputs": [
    {
     "name": "stdout",
     "output_type": "stream",
     "text": [
      "       Section       Variable    Source          Model     ScalarName  \\\n",
      "6502  Forcings  Precipitation  GPCPv2.3    UKESM1-0-LL  Overall Score   \n",
      "6632  Forcings  Precipitation  GPCPv2.3      GFDL-ESM4  Overall Score   \n",
      "6762  Forcings  Precipitation  GPCPv2.3    BCC-CSM2-MR  Overall Score   \n",
      "6892  Forcings  Precipitation  GPCPv2.3  MPI-ESM1.2-HR  Overall Score   \n",
      "7022  Forcings  Precipitation  GPCPv2.3     NorESM2-LM  Overall Score   \n",
      "7152  Forcings  Precipitation  GPCPv2.3    MIROC-ESM2L  Overall Score   \n",
      "7282  Forcings  Precipitation  GPCPv2.3          CESM2  Overall Score   \n",
      "7412  Forcings  Precipitation  GPCPv2.3   IPSL-CM6A-LR  Overall Score   \n",
      "7542  Forcings  Precipitation  GPCPv2.3  ACCESS-ESM1-5  Overall Score   \n",
      "7672  Forcings  Precipitation  GPCPv2.3        CanESM5  Overall Score   \n",
      "7802  Forcings  Precipitation  GPCPv2.3      MeanCMIP6  Overall Score   \n",
      "\n",
      "     AnalysisType  Region ScalarType Units      Data  Weight  \n",
      "6502    MeanState  global      score     1  0.744698    40.0  \n",
      "6632    MeanState  global      score     1  0.743360    40.0  \n",
      "6762    MeanState  global      score     1  0.714389    40.0  \n",
      "6892    MeanState  global      score     1  0.733471    40.0  \n",
      "7022    MeanState  global      score     1  0.749153    40.0  \n",
      "7152    MeanState  global      score     1  0.704931    40.0  \n",
      "7282    MeanState  global      score     1  0.754357    40.0  \n",
      "7412    MeanState  global      score     1  0.699438    40.0  \n",
      "7542    MeanState  global      score     1  0.691641    40.0  \n",
      "7672    MeanState  global      score     1  0.695923    40.0  \n",
      "7802    MeanState  global      score     1  0.784328    40.0  \n"
     ]
    }
   ],
   "source": [
    "# Extract desired information from ILAMB\n",
    "df = pd.read_csv(\"https://www.ilamb.org/CMIP6/historical/scalar_database.csv\")\n",
    "q = df[\n",
    "    (df.Variable == \"Precipitation\")\n",
    "    & (df.ScalarName == \"Overall Score\")\n",
    "    & (df.Source == \"GPCPv2.3\")\n",
    "    & (df.Region == \"global\")\n",
    "    & (df.AnalysisType == \"MeanState\")\n",
    "]\n",
    "\n",
    "print(q)"
   ]
  },
  {
   "cell_type": "code",
   "execution_count": 4,
   "metadata": {},
   "outputs": [
    {
     "name": "stdout",
     "output_type": "stream",
     "text": [
      "                   Data\n",
      "Model                  \n",
      "ACCESS-ESM1-5  0.630472\n",
      "BCC-CSM2-MR    0.659121\n",
      "CESM2          0.695304\n",
      "CanESM5        0.642938\n",
      "GFDL-ESM4      0.687051\n",
      "IPSL-CM6A-LR   0.645624\n",
      "MIROC-ESM2L    0.657760\n",
      "MPI-ESM1.2-HR  0.678806\n",
      "NorESM2-LM     0.686514\n",
      "UKESM1-0-LL    0.682414\n",
      "[0.6304722 0.6591206 0.6953042 0.6429384 0.6870514 0.6456242 0.6577596\n",
      " 0.6788058 0.6865144 0.6824142]\n"
     ]
    }
   ],
   "source": [
    "# Extract ILAMB skill score from the dictionary above \n",
    "source_mean = df[(df.Variable==\"Precipitation\") & (df.ScalarName==\"Overall Score\") & (df.Region==\"global\") & (df.AnalysisType==\"MeanState\")& (df.Model != \"MeanCMIP6\")].drop(columns=\"Weight\").groupby('Model').mean(numeric_only=True)\n",
    "print(source_mean)\n",
    "\n",
    "# Convert skill scores to numpy array\n",
    "skill_score_array = np.array(source_mean['Data'])\n",
    "print(skill_score_array)"
   ]
  },
  {
   "cell_type": "code",
   "execution_count": 7,
   "metadata": {},
   "outputs": [
    {
     "name": "stdout",
     "output_type": "stream",
     "text": [
      "[0.06817123158038363, 0.09078614188269264, 0.13036557920834338, 0.07722202015458655, 0.12003875530566553, 0.07932415234175898, 0.08955891272951759, 0.11053792243313895, 0.11939587486853695, 0.11459940949537592]\n",
      "[0.08623746596747918, 0.09670821218770323, 0.11176883031490605, 0.0906466991340943, 0.10813944192130305, 0.09162578459081697, 0.0961831631607499, 0.10463092135931014, 0.10790740769403148, 0.10615207366960573]\n"
     ]
    }
   ],
   "source": [
    "# Now use Sanderson function to estimate weights based on ILAMB skill scores\n",
    "weights_Sanderson_10 = Sanderson(skill_score_array, 0.1)\n",
    "print(weights_Sanderson_10)\n",
    "\n",
    "weights_Sanderson_25 = Sanderson(skill_score_array, 0.25)\n",
    "print(weights_Sanderson_25)"
   ]
  }
 ],
 "metadata": {
  "kernelspec": {
   "display_name": "base",
   "language": "python",
   "name": "python3"
  },
  "language_info": {
   "codemirror_mode": {
    "name": "ipython",
    "version": 3
   },
   "file_extension": ".py",
   "mimetype": "text/x-python",
   "name": "python",
   "nbconvert_exporter": "python",
   "pygments_lexer": "ipython3",
   "version": "3.12.2"
  }
 },
 "nbformat": 4,
 "nbformat_minor": 2
}
