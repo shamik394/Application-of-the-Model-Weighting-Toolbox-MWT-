{
 "cells": [
  {
   "cell_type": "code",
   "execution_count": 2,
   "metadata": {},
   "outputs": [],
   "source": [
    "# Import necessary libraries:\n",
    "from intake_esgf import ESGFCatalog\n",
    "import matplotlib.pyplot as plt\n",
    "import numpy as np\n",
    "import csv\n",
    "import pandas as pd"
   ]
  },
  {
   "cell_type": "code",
   "execution_count": 3,
   "metadata": {},
   "outputs": [],
   "source": [
    "# Defines neccessary fucntions:\n",
    "def Sanderson(skill_scores, d_q):\n",
    "\n",
    "    # Calculate model weights using the modified Sanderson Approach equation\n",
    "    weights_raw = [np.exp(skill_score / d_q) for skill_score in skill_scores]\n",
    "    # Use the built-in sum() function to sum the elements of the list\n",
    "    weights_sum = sum(weights_raw)\n",
    "     # Normalize the weights by dividing by the total sum of weights\n",
    "    weights = [weight / weights_sum for weight in weights_raw]\n",
    "\n",
    "    return weights\n"
   ]
  },
  {
   "cell_type": "code",
   "execution_count": 4,
   "metadata": {},
   "outputs": [
    {
     "name": "stdout",
     "output_type": "stream",
     "text": [
      "                       Section                  Variable  Source  \\\n",
      "24960  EcosystemandCarbonCycle  GrossPrimaryProductivity  WECANN   \n",
      "25090  EcosystemandCarbonCycle  GrossPrimaryProductivity  WECANN   \n",
      "25220  EcosystemandCarbonCycle  GrossPrimaryProductivity  WECANN   \n",
      "25350  EcosystemandCarbonCycle  GrossPrimaryProductivity  WECANN   \n",
      "25480  EcosystemandCarbonCycle  GrossPrimaryProductivity  WECANN   \n",
      "25610  EcosystemandCarbonCycle  GrossPrimaryProductivity  WECANN   \n",
      "25740  EcosystemandCarbonCycle  GrossPrimaryProductivity  WECANN   \n",
      "25870  EcosystemandCarbonCycle  GrossPrimaryProductivity  WECANN   \n",
      "26000  EcosystemandCarbonCycle  GrossPrimaryProductivity  WECANN   \n",
      "26130  EcosystemandCarbonCycle  GrossPrimaryProductivity  WECANN   \n",
      "26260  EcosystemandCarbonCycle  GrossPrimaryProductivity  WECANN   \n",
      "\n",
      "               Model     ScalarName AnalysisType  Region ScalarType Units  \\\n",
      "24960      GFDL-ESM4  Overall Score    MeanState  global      score     1   \n",
      "25090     NorESM2-LM  Overall Score    MeanState  global      score     1   \n",
      "25220      MeanCMIP6  Overall Score    MeanState  global      score     1   \n",
      "25350  MPI-ESM1.2-HR  Overall Score    MeanState  global      score     1   \n",
      "25480   IPSL-CM6A-LR  Overall Score    MeanState  global      score     1   \n",
      "25610  ACCESS-ESM1-5  Overall Score    MeanState  global      score     1   \n",
      "25740          CESM2  Overall Score    MeanState  global      score     1   \n",
      "25870        CanESM5  Overall Score    MeanState  global      score     1   \n",
      "26000    UKESM1-0-LL  Overall Score    MeanState  global      score     1   \n",
      "26130    MIROC-ESM2L  Overall Score    MeanState  global      score     1   \n",
      "26260    BCC-CSM2-MR  Overall Score    MeanState  global      score     1   \n",
      "\n",
      "           Data  Weight  \n",
      "24960  0.607721    75.0  \n",
      "25090  0.629993    75.0  \n",
      "25220  0.708244    75.0  \n",
      "25350  0.569881    75.0  \n",
      "25480  0.649105    75.0  \n",
      "25610  0.632852    75.0  \n",
      "25740  0.630464    75.0  \n",
      "25870  0.575205    75.0  \n",
      "26000  0.570607    75.0  \n",
      "26130  0.572222    75.0  \n",
      "26260  0.622811    75.0  \n"
     ]
    }
   ],
   "source": [
    "# Extract desired information from ILAMB\n",
    "df = pd.read_csv(\"https://www.ilamb.org/CMIP6/historical/scalar_database.csv\")\n",
    "q = df[\n",
    "    (df.Variable == \"GrossPrimaryProductivity\")\n",
    "    & (df.ScalarName == \"Overall Score\")\n",
    "    & (df.Source == \"WECANN\")\n",
    "    & (df.Region == \"global\")\n",
    "    & (df.AnalysisType == \"MeanState\")\n",
    "]\n",
    "\n",
    "print(q)"
   ]
  },
  {
   "cell_type": "code",
   "execution_count": 5,
   "metadata": {},
   "outputs": [
    {
     "name": "stdout",
     "output_type": "stream",
     "text": [
      "                   Data\n",
      "Model                  \n",
      "ACCESS-ESM1-5  0.616319\n",
      "BCC-CSM2-MR    0.609968\n",
      "CESM2          0.609062\n",
      "CanESM5        0.582809\n",
      "GFDL-ESM4      0.580148\n",
      "IPSL-CM6A-LR   0.624623\n",
      "MIROC-ESM2L    0.558889\n",
      "MPI-ESM1.2-HR  0.579786\n",
      "NorESM2-LM     0.610553\n",
      "UKESM1-0-LL    0.579696\n",
      "[0.61631933 0.60996833 0.60906233 0.58280933 0.58014833 0.62462333\n",
      " 0.558889   0.57978633 0.61055333 0.579696  ]\n"
     ]
    }
   ],
   "source": [
    "# Extract ILAMB skill score from the dictionary above \n",
    "source_mean = df[(df.Variable==\"GrossPrimaryProductivity\") & (df.ScalarName==\"Overall Score\") & (df.Region==\"global\") & (df.AnalysisType==\"MeanState\")& (df.Model != \"MeanCMIP6\")].drop(columns=\"Weight\").groupby('Model').mean(numeric_only=True)\n",
    "print(source_mean)\n",
    "\n",
    "# Convert skill scores to numpy array\n",
    "skill_score_array = np.array(source_mean['Data'])\n",
    "print(skill_score_array)"
   ]
  },
  {
   "cell_type": "code",
   "execution_count": 6,
   "metadata": {},
   "outputs": [
    {
     "name": "stdout",
     "output_type": "stream",
     "text": [
      "[0.12104811205704179, 0.11359938435621683, 0.11257482220878018, 0.08658166623592818, 0.0843081118934888, 0.13152909565441231, 0.06816183155322686, 0.08400346826608085, 0.11426588837817993, 0.08392761939664431]\n",
      "[0.1084638704980715, 0.10574315912678942, 0.10536063946239357, 0.09485762912498392, 0.0938533189412788, 0.1121271086814433, 0.08620220810356927, 0.09371751767929339, 0.10599088784871218, 0.09368366053346465]\n"
     ]
    }
   ],
   "source": [
    "# Now use Sanderson function to estimate weights based on ILAMB skill scores\n",
    "weights_Sanderson_10 = Sanderson(skill_score_array, 0.1)\n",
    "print(weights_Sanderson_10)\n",
    "\n",
    "weights_Sanderson_25 = Sanderson(skill_score_array, 0.25)\n",
    "print(weights_Sanderson_25)"
   ]
  }
 ],
 "metadata": {
  "kernelspec": {
   "display_name": "base",
   "language": "python",
   "name": "python3"
  },
  "language_info": {
   "codemirror_mode": {
    "name": "ipython",
    "version": 3
   },
   "file_extension": ".py",
   "mimetype": "text/x-python",
   "name": "python",
   "nbconvert_exporter": "python",
   "pygments_lexer": "ipython3",
   "version": "3.12.2"
  }
 },
 "nbformat": 4,
 "nbformat_minor": 2
}
