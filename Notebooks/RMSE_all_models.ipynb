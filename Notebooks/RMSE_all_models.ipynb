{
 "cells": [
  {
   "cell_type": "code",
   "execution_count": 1,
   "metadata": {},
   "outputs": [],
   "source": [
    "# Import neccessary libraries\n",
    "from intake_esgf import ESGFCatalog\n",
    "import numpy as np\n",
    "import xarray as xr\n",
    "import netCDF4\n",
    "import csv"
   ]
  },
  {
   "cell_type": "code",
   "execution_count": 2,
   "metadata": {},
   "outputs": [],
   "source": [
    "# Create functions needed\n",
    "\n",
    "# RMSE function\n",
    "def get_RMSE(model, obs):\n",
    "    # Step 2: Compute the Difference\n",
    "    difference = model - obs\n",
    "    # Step 3: Square the Difference\n",
    "    squared_difference = difference ** 2\n",
    "    # Step 4: Compute the Mean Squared Error\n",
    "    mse = squared_difference.mean(dim=['lat', 'lon'])\n",
    "    # Step 5: Take the Square Root to get RMSE\n",
    "    rmse  = np.sqrt(mse)\n",
    "    rmse_weighted = rmse.values.item()\n",
    "\n",
    "    return rmse_weighted\n",
    "\n",
    "# function for shifiting lon according to Bharat's code\n",
    "def shift_lon(model):\n",
    "    # First shift the lon dimension for the model average\n",
    "    ds_tmp = model.copy(deep=True)\n",
    "    ds_tmp['lon'] = ds_tmp['lon'] - 180\n",
    "\n",
    "    gpp_reshape = np.zeros(ds_tmp.shape)\n",
    "    gpp_reshape[:,ds_tmp['lon'].size//2:] = ds_tmp[:,:ds_tmp['lon'].size//2].data\n",
    "    gpp_reshape[:,:ds_tmp['lon'].size//2] = ds_tmp[:,ds_tmp['lon'].size//2:].data\n",
    "    ds_tmp.data = gpp_reshape\n",
    "    return ds_tmp "
   ]
  },
  {
   "cell_type": "code",
   "execution_count": 3,
   "metadata": {},
   "outputs": [
    {
     "name": "stdout",
     "output_type": "stream",
     "text": [
      "Perform a search() to populate the catalog.\n"
     ]
    }
   ],
   "source": [
    "#Populate the Catalog - bringing in nothing from the catalog\n",
    "cat = ESGFCatalog()\n",
    "print(cat)  # <-- nothing to see here yet"
   ]
  },
  {
   "cell_type": "code",
   "execution_count": 4,
   "metadata": {},
   "outputs": [
    {
     "data": {
      "application/vnd.jupyter.widget-view+json": {
       "model_id": "fa1429a2898844f69f6a4efc2a084269",
       "version_major": 2,
       "version_minor": 0
      },
      "text/plain": [
       "   Searching indices:   0%|          |0/2 [       ?index/s]"
      ]
     },
     "metadata": {},
     "output_type": "display_data"
    },
    {
     "data": {
      "text/plain": [
       "Summary information for 10 results:\n",
       "experiment_id                                          [historical]\n",
       "mip_era                                                     [CMIP6]\n",
       "institution_id    [IPSL, MOHC, NCAR, BCC, MIROC, NOAA-GFDL, CCCm...\n",
       "member_id                                      [r1i1p1f1, r1i1p1f2]\n",
       "variable_id                                                   [gpp]\n",
       "activity_drs                                                 [CMIP]\n",
       "table_id                                                     [Lmon]\n",
       "grid_label                                            [gr, gn, gr1]\n",
       "source_id         [IPSL-CM6A-LR, UKESM1-0-LL, CESM2, BCC-CSM2-MR...\n",
       "project                                                     [CMIP6]\n",
       "dtype: object"
      ]
     },
     "execution_count": 4,
     "metadata": {},
     "output_type": "execute_result"
    }
   ],
   "source": [
    "# Import selected models from Intake-ESGF Catalog for selected variable\n",
    "\n",
    "models = [\"ACCESS-ESM1-5\",\"IPSL-CM6A-LR\",\"CESM2\", \"UKESM1-0-LL\",\"BCC-CSM2-MR\",\"MPI-ESM1-2-HR\",\"CanESM5\",\"GFDL-ESM4\",\"NorESM2-LM\", \"MIROC-ES2L\"]\n",
    "\n",
    "cat.search(\n",
    "    experiment_id=\"historical\",\n",
    "    source_id= models,\n",
    "    frequency=\"mon\",\n",
    "    variable_id=[\"gpp\"],\n",
    ")\n",
    "cat.remove_ensembles()"
   ]
  },
  {
   "cell_type": "code",
   "execution_count": 5,
   "metadata": {},
   "outputs": [
    {
     "data": {
      "application/vnd.jupyter.widget-view+json": {
       "model_id": "e1f7ac0c3b0149eabd21d9946f8eb5a7",
       "version_major": 2,
       "version_minor": 0
      },
      "text/plain": [
       "Get file information:   0%|          |0/2 [       ?index/s]"
      ]
     },
     "metadata": {},
     "output_type": "display_data"
    },
    {
     "data": {
      "application/vnd.jupyter.widget-view+json": {
       "model_id": "82026f2d07f74b498be29138d5f0d45b",
       "version_major": 2,
       "version_minor": 0
      },
      "text/plain": [
       "Adding cell measures:   0%|          |0/10 [     ?dataset/s]"
      ]
     },
     "metadata": {},
     "output_type": "display_data"
    }
   ],
   "source": [
    "#Obtaining the datasets and loading it into a dictionary (putting it in the shopping cart)\n",
    "\n",
    "dsd = cat.to_dataset_dict()"
   ]
  },
  {
   "cell_type": "code",
   "execution_count": 6,
   "metadata": {},
   "outputs": [
    {
     "name": "stdout",
     "output_type": "stream",
     "text": [
      "dict_keys(['MPI-M.r1i1p1f1.gn.MPI-ESM1-2-HR', 'BCC.r1i1p1f1.gn.BCC-CSM2-MR', 'IPSL.r1i1p1f1.gr.IPSL-CM6A-LR', 'NCC.r1i1p1f1.gn.NorESM2-LM', 'MIROC.r1i1p1f2.gn.MIROC-ES2L', 'CCCma.r1i1p1f1.gn.CanESM5', 'MOHC.r1i1p1f2.gn.UKESM1-0-LL', 'NCAR.r1i1p1f1.gn.CESM2', 'NOAA-GFDL.r1i1p1f1.gr1.GFDL-ESM4', 'CSIRO.r1i1p1f1.gn.ACCESS-ESM1-5'])\n"
     ]
    }
   ],
   "source": [
    "#printing variable keys to see how variable names are set up\n",
    "print(dsd.keys())"
   ]
  },
  {
   "cell_type": "code",
   "execution_count": 7,
   "metadata": {},
   "outputs": [
    {
     "name": "stdout",
     "output_type": "stream",
     "text": [
      "5 CCCma.r1i1p1f1.gn.CanESM5\n",
      "5\n"
     ]
    }
   ],
   "source": [
    "# Load each model in its own dataset\n",
    "\n",
    "# list keys of model names\n",
    "list_keys = (list(dsd.keys()))\n",
    "\n",
    "# Find out which model to load weights into\n",
    "for idx, item in enumerate(list_keys):\n",
    "    if 'ACCESS' in item:\n",
    "        model_1 = dsd[list_keys[idx]][\"gpp\"].sel(time=slice('1980-01-01', '2013-12-01'))* 86400 * 1000 # .mean(dim=\"time\") * 86400 * 1000\n",
    "    if 'BCC' in item:\n",
    "        model_2 = dsd[list_keys[idx]][\"gpp\"].sel(time=slice('1980-01-01', '2013-12-01'))* 86400 * 1000 # .mean(dim=\"time\") * 86400 * 1000\n",
    "    if 'CanESM5' in item:\n",
    "        model_3 = dsd[list_keys[idx]][\"gpp\"].sel(time=slice('1980-01-01', '2013-12-01'))* 86400 * 1000 # .mean(dim=\"time\") * 86400 * 1000\n",
    "    if 'CESM2' in item:\n",
    "        model_4 = dsd[list_keys[idx]][\"gpp\"].sel(time=slice('1980-01-01', '2013-12-01'))* 86400 * 1000 # .mean(dim=\"time\") * 86400 * 1000\n",
    "    if 'GFDL' in item:\n",
    "        model_5 = dsd[list_keys[idx]][\"gpp\"].sel(time=slice('1980-01-01', '2013-12-01'))* 86400 * 1000 # .mean(dim=\"time\") * 86400 * 1000\n",
    "    if 'IPSL' in item:\n",
    "        model_6 = dsd[list_keys[idx]][\"gpp\"].sel(time=slice('1980-01-01', '2013-12-01'))* 86400 * 1000 # .mean(dim=\"time\") * 86400 * 1000\n",
    "    if 'MIROC' in item:\n",
    "        model_7 = dsd[list_keys[idx]][\"gpp\"].sel(time=slice('1980-01-01', '2013-12-01'))* 86400 * 1000 # .mean(dim=\"time\") * 86400 * 1000\n",
    "    if 'MPI' in item:\n",
    "        model_8 = dsd[list_keys[idx]][\"gpp\"].sel(time=slice('1980-01-01', '2013-12-01'))* 86400 * 1000 # .mean(dim=\"time\") * 86400 * 1000\n",
    "    if 'NorESM2' in item:\n",
    "        model_9 = dsd[list_keys[idx]][\"gpp\"].sel(time=slice('1980-01-01', '2013-12-01'))* 86400 * 1000 # .mean(dim=\"time\") * 86400 * 1000\n",
    "    if 'UKESM1' in item:\n",
    "        model_10 = dsd[list_keys[idx]][\"gpp\"].sel(time=slice('1980-01-01', '2013-12-01'))* 86400 * 1000 # .mean(dim=\"time\") * 86400 * 1000\n",
    "\n",
    "# Find out which model is CanESM (lowest resolution fo regridding)\n",
    "for idx, item in enumerate(list_keys):\n",
    "    if 'CanESM' in item:\n",
    "        print(idx, item)\n",
    "        break\n",
    "\n",
    "model_CanESM_id = idx\n",
    "print(model_CanESM_id)"
   ]
  },
  {
   "cell_type": "code",
   "execution_count": 8,
   "metadata": {},
   "outputs": [],
   "source": [
    "# Linear Interpolation/Regridding to match lowest resolution model (CanESM5):\n",
    "\n",
    "#Extract lat/lon grid from CanESM5\n",
    "lat_target = dsd[list_keys[idx]][\"gpp\"].lat.values\n",
    "lon_target = dsd[list_keys[idx]][\"gpp\"].lon.values\n",
    "\n",
    "# Regrid each model and take long (not longtitude) term mean \n",
    "gpp_model_1_Regridded = model_1.interp(lat=lat_target, lon=lon_target)\n",
    "gpp_model_1_Regridded_mean = gpp_model_1_Regridded.mean(dim=\"time\")\n",
    "\n",
    "gpp_model_2_Regridded = model_2.interp(lat=lat_target, lon=lon_target)\n",
    "gpp_model_2_Regridded_mean = gpp_model_2_Regridded.mean(dim=\"time\")\n",
    "\n",
    "gpp_model_3_Regridded = model_3.interp(lat=lat_target, lon=lon_target)\n",
    "gpp_model_3_Regridded_mean = gpp_model_3_Regridded.mean(dim=\"time\")\n",
    "\n",
    "gpp_model_4_Regridded = model_4.interp(lat=lat_target, lon=lon_target)\n",
    "gpp_model_4_Regridded_mean = gpp_model_4_Regridded.mean(dim=\"time\")\n",
    "\n",
    "gpp_model_5_Regridded = model_5.interp(lat=lat_target, lon=lon_target)\n",
    "gpp_model_5_Regridded_mean = gpp_model_5_Regridded.mean(dim=\"time\")\n",
    "\n",
    "gpp_model_6_Regridded = model_6.interp(lat=lat_target, lon=lon_target)\n",
    "gpp_model_6_Regridded_mean = gpp_model_6_Regridded.mean(dim=\"time\")\n",
    "\n",
    "gpp_model_7_Regridded = model_7.interp(lat=lat_target, lon=lon_target)\n",
    "gpp_model_7_Regridded_mean = gpp_model_7_Regridded.mean(dim=\"time\")\n",
    "\n",
    "gpp_model_8_Regridded = model_8.interp(lat=lat_target, lon=lon_target)\n",
    "gpp_model_8_Regridded_mean = gpp_model_8_Regridded.mean(dim=\"time\")\n",
    "\n",
    "gpp_model_9_Regridded = model_9.interp(lat=lat_target, lon=lon_target)\n",
    "gpp_model_9_Regridded_mean = gpp_model_9_Regridded.mean(dim=\"time\")\n",
    "\n",
    "gpp_model_10_Regridded = model_10.interp(lat=lat_target, lon=lon_target)\n",
    "gpp_model_10_Regridded_mean = gpp_model_10_Regridded.mean(dim=\"time\")"
   ]
  },
  {
   "cell_type": "code",
   "execution_count": 9,
   "metadata": {},
   "outputs": [],
   "source": [
    "# Shift every model to proper coordinates\n",
    "gpp_model_1_Regridded_mean_shifted = shift_lon(gpp_model_1_Regridded_mean)\n",
    "gpp_model_2_Regridded_mean_shifted = shift_lon(gpp_model_2_Regridded_mean)\n",
    "gpp_model_3_Regridded_mean_shifted = shift_lon(gpp_model_3_Regridded_mean)\n",
    "gpp_model_4_Regridded_mean_shifted = shift_lon(gpp_model_4_Regridded_mean)\n",
    "gpp_model_5_Regridded_mean_shifted = shift_lon(gpp_model_5_Regridded_mean)\n",
    "gpp_model_6_Regridded_mean_shifted = shift_lon(gpp_model_6_Regridded_mean)\n",
    "gpp_model_7_Regridded_mean_shifted = shift_lon(gpp_model_7_Regridded_mean)\n",
    "gpp_model_8_Regridded_mean_shifted = shift_lon(gpp_model_8_Regridded_mean)\n",
    "gpp_model_9_Regridded_mean_shifted = shift_lon(gpp_model_9_Regridded_mean)\n",
    "gpp_model_10_Regridded_mean_shifted = shift_lon(gpp_model_10_Regridded_mean)"
   ]
  },
  {
   "cell_type": "code",
   "execution_count": 10,
   "metadata": {},
   "outputs": [],
   "source": [
    "# Define the observation \n",
    "\n",
    "# Open the NetCDF file as an xarray Dataset\n",
    "ds = xr.open_dataset('/Users/6i0/Documents/Data/gpp_WECANN.nc')\n",
    "\n",
    "# Access the GPP variable from the Dataset\n",
    "gpp_data = ds['gpp']\n",
    "gpp_data_mean = gpp_data.mean(dim=\"time\")\n",
    "lat = ds['lat']\n",
    "lon = ds['lon']\n",
    "time = ds['time']\n",
    "\n",
    "#gpp_data_Regridded_mean = gpp_data_mean\n",
    "lat_target = dsd[list_keys[idx]][\"gpp\"].lat.values\n",
    "lon_target = dsd[list_keys[idx]][\"gpp\"].lon.values -180\n",
    "\n",
    "# Correctly using ds_emean for interpolation\n",
    "gpp_data_Regridded = gpp_data.interp(lat=lat_target, lon=lon_target)\n",
    "gpp_data_Regridded_mean = gpp_data_Regridded.mean(dim=\"time\")\n",
    "\n",
    "#Shift data\n",
    "gpp_data_Regridded_mean_shifted = shift_lon(gpp_data_Regridded_mean)\n"
   ]
  },
  {
   "cell_type": "code",
   "execution_count": 11,
   "metadata": {},
   "outputs": [
    {
     "name": "stdout",
     "output_type": "stream",
     "text": [
      "[4.76e-03 7.95e-02 1.97e-02 2.77e-02 8.77e-02 2.77e-01 2.56e-01 1.81e-01\n",
      " 6.60e-02 1.51e-06]\n"
     ]
    }
   ],
   "source": [
    "# Open the CSV file to extract all the model weights\n",
    "with open('/Users/6i0/Documents/Data/Weights.csv', newline='') as csvfile:\n",
    "    # Create a CSV reader object\n",
    "    reader = csv.DictReader(csvfile)\n",
    "    \n",
    "    # Initialize empty lists to store the weights\n",
    "    weights = []\n",
    "    weights_BMA100 = []\n",
    "    weights_BMA1000 = []\n",
    "    weights_sanderson_10 = []\n",
    "    weights_sanderson_25 = []\n",
    "\n",
    "    # Iterate over each row in the CSV file\n",
    "    for row in reader:\n",
    "        # Extract the weight from the desired column\n",
    "        weight = row['Ensemble Mean']  # Change 'Ensemble Mean' to the desired column header\n",
    "        # Check if the value is not empty before appending\n",
    "        if weight:\n",
    "            weights.append(weight)\n",
    "        \n",
    "        weight_BMA100 = row['BMA 100 sample']\n",
    "        if weight_BMA100:\n",
    "            weights_BMA100.append(weight_BMA100)\n",
    "        \n",
    "        weight_BMA1000 = row['BMA 1000 sample']\n",
    "        if weight_BMA1000:\n",
    "            weights_BMA1000.append(weight_BMA1000)\n",
    "        \n",
    "        weight_sanderson_10 = row['Sanderson 0.1']\n",
    "        if weight_sanderson_10:\n",
    "            weights_sanderson_10.append(weight_sanderson_10)\n",
    "        \n",
    "        weight_sanderson_25 = row['Sanderson 0.25']\n",
    "        if weight_sanderson_25:\n",
    "            weights_sanderson_25.append(weight_sanderson_25)\n",
    "\n",
    "# Convert the strings to numerical values\n",
    "weights = np.array(weights, dtype=float)\n",
    "weights_BMA100 = np.array(weights_BMA100, dtype=float)\n",
    "weights_BMA1000 = np.array(weights_BMA1000, dtype=float)\n",
    "weights_sanderson_10 = np.array(weights_sanderson_10, dtype=float)\n",
    "weights_sanderson_25 = np.array(weights_sanderson_25, dtype=float)\n",
    "\n",
    "# Print the extracted weights\n",
    "print(weights_BMA100)\n",
    "# print(weights_BMA1000)\n",
    "# print(weights_sanderson_10)\n",
    "# print(weights_sanderson_25)\n",
    "\n",
    "# Normalize weights\n",
    "weights_norm_BMA100 = weights_BMA100 / np.sum(weights_BMA100)\n",
    "weights_norm_BMA1000 = weights_BMA1000 / np.sum(weights_BMA1000)\n",
    "\n",
    "# Normalize weights\n",
    "weights_norm_sanderson_10 = weights_sanderson_10 / np.sum(weights_sanderson_10)\n",
    "weights_norm_sanderson_25 = weights_sanderson_25 / np.sum(weights_sanderson_25)\n"
   ]
  },
  {
   "cell_type": "code",
   "execution_count": 12,
   "metadata": {},
   "outputs": [],
   "source": [
    "# Create weighted model average\n",
    "gpp_model_mean_unweighted_shifted = (weights[0]*gpp_model_1_Regridded_mean_shifted) + (weights[1]*gpp_model_2_Regridded_mean_shifted) + (weights[2]*gpp_model_3_Regridded_mean_shifted) + (weights[3]* gpp_model_4_Regridded_mean_shifted) + (weights[4]*gpp_model_5_Regridded_mean_shifted) + (weights[5]*gpp_model_6_Regridded_mean_shifted) + (weights[6]*gpp_model_7_Regridded_mean_shifted) + (weights[7]*gpp_model_8_Regridded_mean_shifted) + (weights[8]*gpp_model_9_Regridded_mean_shifted) + (weights[9]*gpp_model_10_Regridded_mean_shifted)\n",
    "\n",
    "gpp_model_mean_weighted_BMA100_shifted = (weights_norm_BMA100[0]*gpp_model_1_Regridded_mean_shifted) + (weights_norm_BMA100[1]*gpp_model_2_Regridded_mean_shifted) + (weights_norm_BMA100[2]*gpp_model_3_Regridded_mean_shifted) + (weights_norm_BMA100[3]* gpp_model_4_Regridded_mean_shifted) + (weights_norm_BMA100[4]*gpp_model_5_Regridded_mean_shifted) + (weights_norm_BMA100[5]*gpp_model_6_Regridded_mean_shifted) + (weights_norm_BMA100[6]*gpp_model_7_Regridded_mean_shifted) + (weights_norm_BMA100[7]*gpp_model_8_Regridded_mean_shifted) + (weights_norm_BMA100[8]*gpp_model_9_Regridded_mean_shifted) + (weights_norm_BMA100[9]*gpp_model_10_Regridded_mean_shifted)\n",
    "gpp_model_mean_weighted_BMA1000_shifted = (weights_norm_BMA1000[0]*gpp_model_1_Regridded_mean_shifted) + (weights_norm_BMA1000[1]*gpp_model_2_Regridded_mean_shifted) + (weights_norm_BMA1000[2]*gpp_model_3_Regridded_mean_shifted) + (weights_norm_BMA1000[3]* gpp_model_4_Regridded_mean_shifted) + (weights_norm_BMA1000[4]*gpp_model_5_Regridded_mean_shifted) + (weights_norm_BMA1000[5]*gpp_model_6_Regridded_mean_shifted) + (weights_norm_BMA1000[6]*gpp_model_7_Regridded_mean_shifted) + (weights_norm_BMA1000[7]*gpp_model_8_Regridded_mean_shifted) + (weights_norm_BMA1000[8]*gpp_model_9_Regridded_mean_shifted) + (weights_norm_BMA1000[9]*gpp_model_10_Regridded_mean_shifted)\n",
    "\n",
    "gpp_model_mean_weighted_shifted_sanderson_10 = (weights_norm_sanderson_10[0]*gpp_model_1_Regridded_mean_shifted) + (weights_norm_sanderson_10[1]*gpp_model_2_Regridded_mean_shifted) + (weights_norm_sanderson_10[2]*gpp_model_3_Regridded_mean_shifted) + (weights_norm_sanderson_10[3]* gpp_model_4_Regridded_mean_shifted) + (weights_norm_sanderson_10[4]*gpp_model_5_Regridded_mean_shifted) + (weights_norm_sanderson_10[5]*gpp_model_6_Regridded_mean_shifted) + (weights_norm_sanderson_10[6]*gpp_model_7_Regridded_mean_shifted) + (weights_norm_sanderson_10[7]*gpp_model_8_Regridded_mean_shifted) + (weights_norm_sanderson_10[8]*gpp_model_9_Regridded_mean_shifted) + (weights_norm_sanderson_10[9]*gpp_model_10_Regridded_mean_shifted)\n",
    "gpp_model_mean_weighted_shifted_sanderson_25 = (weights_norm_sanderson_25[0]*gpp_model_1_Regridded_mean_shifted) + (weights_norm_sanderson_25[1]*gpp_model_2_Regridded_mean_shifted) + (weights_norm_sanderson_25[2]*gpp_model_3_Regridded_mean_shifted) + (weights_norm_sanderson_25[3]* gpp_model_4_Regridded_mean_shifted) + (weights_norm_sanderson_25[4]*gpp_model_5_Regridded_mean_shifted) + (weights_norm_sanderson_25[5]*gpp_model_6_Regridded_mean_shifted) + (weights_norm_sanderson_25[6]*gpp_model_7_Regridded_mean_shifted) + (weights_norm_sanderson_25[7]*gpp_model_8_Regridded_mean_shifted) + (weights_norm_sanderson_25[8]*gpp_model_9_Regridded_mean_shifted) + (weights_norm_sanderson_25[9]*gpp_model_10_Regridded_mean_shifted)"
   ]
  },
  {
   "cell_type": "code",
   "execution_count": 13,
   "metadata": {},
   "outputs": [],
   "source": [
    "# Now estimate RMSE for all models\n",
    "\n",
    "rmse_unweighted=get_RMSE(gpp_model_mean_unweighted_shifted, gpp_data_Regridded_mean)\n",
    "\n",
    "rmse_weighted_sanderson_10=get_RMSE(gpp_model_mean_weighted_shifted_sanderson_10, gpp_data_Regridded_mean)\n",
    "rmse_weighted_sanderson_25=get_RMSE(gpp_model_mean_weighted_shifted_sanderson_25, gpp_data_Regridded_mean)\n",
    "rmse_weighted_BMA100=get_RMSE(gpp_model_mean_weighted_BMA100_shifted, gpp_data_Regridded_mean)\n",
    "rmse_weighted_BMA1000=get_RMSE(gpp_model_mean_weighted_BMA1000_shifted, gpp_data_Regridded_mean)\n",
    "\n",
    "rmse_model_1=get_RMSE(gpp_model_1_Regridded_mean_shifted, gpp_data_Regridded_mean)\n",
    "rmse_model_2=get_RMSE(gpp_model_2_Regridded_mean_shifted, gpp_data_Regridded_mean)\n",
    "rmse_model_3=get_RMSE(gpp_model_3_Regridded_mean_shifted, gpp_data_Regridded_mean)\n",
    "rmse_model_4=get_RMSE(gpp_model_4_Regridded_mean_shifted, gpp_data_Regridded_mean)\n",
    "rmse_model_5=get_RMSE(gpp_model_5_Regridded_mean_shifted, gpp_data_Regridded_mean)\n",
    "rmse_model_6=get_RMSE(gpp_model_6_Regridded_mean_shifted, gpp_data_Regridded_mean)\n",
    "rmse_model_7=get_RMSE(gpp_model_7_Regridded_mean_shifted, gpp_data_Regridded_mean)\n",
    "rmse_model_8=get_RMSE(gpp_model_8_Regridded_mean_shifted, gpp_data_Regridded_mean)\n",
    "rmse_model_9=get_RMSE(gpp_model_9_Regridded_mean_shifted, gpp_data_Regridded_mean)\n",
    "rmse_model_10=get_RMSE(gpp_model_10_Regridded_mean_shifted, gpp_data_Regridded_mean)"
   ]
  },
  {
   "cell_type": "code",
   "execution_count": 14,
   "metadata": {},
   "outputs": [
    {
     "name": "stdout",
     "output_type": "stream",
     "text": [
      "Unweighted ,  Sanderson 10 ,  Sanderson 25 ,  BMA 100 ,  BMA 1000\n"
     ]
    },
    {
     "data": {
      "text/plain": [
       "(0.6141278000213121,\n",
       " 0.6027639604467278,\n",
       " 0.6083123603128108,\n",
       " 0.5696669772856218,\n",
       " 0.5536836627090607)"
      ]
     },
     "execution_count": 14,
     "metadata": {},
     "output_type": "execute_result"
    }
   ],
   "source": [
    "#RMSE for model averages\n",
    "print('Unweighted , ','Sanderson 10 , ','Sanderson 25 , ','BMA 100 , ','BMA 1000')\n",
    "rmse_unweighted , rmse_weighted_sanderson_10 , rmse_weighted_sanderson_25 , rmse_weighted_BMA100 , rmse_weighted_BMA1000 , "
   ]
  },
  {
   "cell_type": "code",
   "execution_count": 15,
   "metadata": {},
   "outputs": [
    {
     "name": "stdout",
     "output_type": "stream",
     "text": [
      "['ACCESS-ESM1-5', 'BCC-CSM2-MR', 'CanESM5', 'CESM2', 'GFDL-ESM4', 'IPSL-CM6A-LR', 'MIROC-ESM2L', 'MPI-ESM1.2-HR', 'NorESM2-LM', 'UKESM1-0-LL']\n"
     ]
    },
    {
     "data": {
      "text/plain": [
       "(1.097191344345589,\n",
       " 1.0839707684124917,\n",
       " 1.182371693672462,\n",
       " 1.0643187041795092,\n",
       " 1.0394481120899246,\n",
       " 0.8097099416640622,\n",
       " 1.2364457928196744,\n",
       " 1.2427441103579708,\n",
       " 1.0225320188046072,\n",
       " 1.3966485615171664)"
      ]
     },
     "execution_count": 15,
     "metadata": {},
     "output_type": "execute_result"
    }
   ],
   "source": [
    "model_print = [\n",
    "    \"ACCESS-ESM1-5\",\n",
    "    \"BCC-CSM2-MR\",\n",
    "    \"CanESM5\",\n",
    "    \"CESM2\",\n",
    "    \"GFDL-ESM4\",\n",
    "    \"IPSL-CM6A-LR\",\n",
    "    \"MIROC-ESM2L\",\n",
    "    \"MPI-ESM1.2-HR\",\n",
    "    \"NorESM2-LM\",\n",
    "    \"UKESM1-0-LL\"\n",
    "]\n",
    "\n",
    "print(model_print)\n",
    "rmse_model_1 , rmse_model_2 , rmse_model_3 , rmse_model_4 , rmse_model_5 , rmse_model_6 , rmse_model_7 , rmse_model_8 , rmse_model_9 , rmse_model_10"
   ]
  }
 ],
 "metadata": {
  "kernelspec": {
   "display_name": "base",
   "language": "python",
   "name": "python3"
  },
  "language_info": {
   "codemirror_mode": {
    "name": "ipython",
    "version": 3
   },
   "file_extension": ".py",
   "mimetype": "text/x-python",
   "name": "python",
   "nbconvert_exporter": "python",
   "pygments_lexer": "ipython3",
   "version": "3.12.2"
  }
 },
 "nbformat": 4,
 "nbformat_minor": 2
}
