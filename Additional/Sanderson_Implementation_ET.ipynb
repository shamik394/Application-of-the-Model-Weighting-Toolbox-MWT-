{
 "cells": [
  {
   "cell_type": "code",
   "execution_count": 1,
   "metadata": {},
   "outputs": [],
   "source": [
    "# Import necessary libraries:\n",
    "from intake_esgf import ESGFCatalog\n",
    "import matplotlib.pyplot as plt\n",
    "import numpy as np\n",
    "import csv\n",
    "import pandas as pd"
   ]
  },
  {
   "cell_type": "code",
   "execution_count": 2,
   "metadata": {},
   "outputs": [],
   "source": [
    "# Defines neccessary fucntions:\n",
    "def Sanderson(skill_scores, d_q):\n",
    "\n",
    "    # Calculate model weights using the modified Sanderson Approach equation\n",
    "    weights_raw = [np.exp(skill_score / d_q) for skill_score in skill_scores]\n",
    "    # Use the built-in sum() function to sum the elements of the list\n",
    "    weights_sum = sum(weights_raw)\n",
    "     # Normalize the weights by dividing by the total sum of weights\n",
    "    weights = [weight / weights_sum for weight in weights_raw]\n",
    "\n",
    "    return weights\n"
   ]
  },
  {
   "cell_type": "code",
   "execution_count": 3,
   "metadata": {},
   "outputs": [
    {
     "name": "stdout",
     "output_type": "stream",
     "text": [
      "Empty DataFrame\n",
      "Columns: [Section, Variable, Source, Model, ScalarName, AnalysisType, Region, ScalarType, Units, Data, Weight]\n",
      "Index: []\n"
     ]
    }
   ],
   "source": [
    "# Extract desired information from ILAMB\n",
    "df = pd.read_csv(\"https://www.ilamb.org/CMIP6/historical/scalar_database.csv\")\n",
    "q = df[\n",
    "    (df.Variable == \"Evapotranspiration\")\n",
    "    & (df.ScalarName == \"Overall Score\")\n",
    "    & (df.Source == \"GLEAMV2.3A\")\n",
    "    & (df.Region == \"global\")\n",
    "    & (df.AnalysisType == \"MeanState\")\n",
    "]\n",
    "\n",
    "print(q)"
   ]
  },
  {
   "cell_type": "code",
   "execution_count": 4,
   "metadata": {},
   "outputs": [
    {
     "name": "stdout",
     "output_type": "stream",
     "text": [
      "                   Data\n",
      "Model                  \n",
      "ACCESS-ESM1-5  0.608025\n",
      "BCC-CSM2-MR    0.648576\n",
      "CESM2          0.671116\n",
      "CanESM5        0.607310\n",
      "GFDL-ESM4      0.661953\n",
      "IPSL-CM6A-LR   0.654614\n",
      "MIROC-ESM2L    0.599714\n",
      "MPI-ESM1.2-HR  0.618888\n",
      "NorESM2-LM     0.663907\n",
      "UKESM1-0-LL    0.669652\n",
      "[0.60802533 0.64857567 0.67111633 0.60731033 0.66195333 0.65461367\n",
      " 0.59971433 0.61888833 0.663907   0.66965233]\n"
     ]
    }
   ],
   "source": [
    "# Extract ILAMB skill score from the dictionary above \n",
    "source_mean = df[(df.Variable==\"Evapotranspiration\") & (df.ScalarName==\"Overall Score\") & (df.Region==\"global\") & (df.AnalysisType==\"MeanState\")& (df.Model != \"MeanCMIP6\")].drop(columns=\"Weight\").groupby('Model').mean(numeric_only=True)\n",
    "print(source_mean)\n",
    "\n",
    "# Convert skill scores to numpy array\n",
    "skill_score_array = np.array(source_mean['Data'])\n",
    "print(skill_score_array)"
   ]
  },
  {
   "cell_type": "code",
   "execution_count": 5,
   "metadata": {},
   "outputs": [
    {
     "name": "stdout",
     "output_type": "stream",
     "text": [
      "[0.06985164716286066, 0.10478147596325257, 0.1312735963273362, 0.06935398913322721, 0.11977963347594808, 0.11130308771701311, 0.06428097230568643, 0.07786711086367654, 0.12214273666606339, 0.12936575038493558]\n",
      "[0.0873542555286281, 0.1027370783026508, 0.11243055627818971, 0.08710477927890463, 0.1083843551627785, 0.10524859116386265, 0.08449799054290784, 0.09123364591245559, 0.10923466087082055, 0.11177408695880153]\n"
     ]
    }
   ],
   "source": [
    "# Now use Sanderson function to estimate weights based on ILAMB skill scores\n",
    "weights_Sanderson_10 = Sanderson(skill_score_array, 0.1)\n",
    "print(weights_Sanderson_10)\n",
    "\n",
    "weights_Sanderson_25 = Sanderson(skill_score_array, 0.25)\n",
    "print(weights_Sanderson_25)"
   ]
  }
 ],
 "metadata": {
  "kernelspec": {
   "display_name": "base",
   "language": "python",
   "name": "python3"
  },
  "language_info": {
   "codemirror_mode": {
    "name": "ipython",
    "version": 3
   },
   "file_extension": ".py",
   "mimetype": "text/x-python",
   "name": "python",
   "nbconvert_exporter": "python",
   "pygments_lexer": "ipython3",
   "version": "3.12.2"
  }
 },
 "nbformat": 4,
 "nbformat_minor": 2
}
